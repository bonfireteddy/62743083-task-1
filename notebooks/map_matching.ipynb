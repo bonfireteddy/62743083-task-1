{
 "cells": [
  {
   "cell_type": "code",
   "execution_count": 83,
   "id": "b63b8dca-5c0f-4a89-aaf9-02daa1304cba",
   "metadata": {},
   "outputs": [
    {
     "name": "stdout",
     "output_type": "stream",
     "text": [
      "총 노드 개수: 113\n",
      "예시 3개: [(436854331, (127.02421, 37.4969787)), (1906756396, (127.0259134, 37.4975028)), (2280678660, (127.0294169, 37.4984367))]\n"
     ]
    }
   ],
   "source": [
    "import xmltodict\n",
    "import pandas as pd\n",
    "from shapely.geometry import LineString, Point\n",
    "from shapely.ops import nearest_points\n",
    "import glob\n",
    "from pathlib import Path\n",
    "\n",
    "with open(\"../data/roads.osm\", \"r\", encoding=\"utf-8\") as file:\n",
    "    osm_data = xmltodict.parse(file.read()) # XML 문서를 파이썬 딕셔너리로 변환\n",
    "\n",
    "# GPS 로그 Pandas DataFrame 객체 생성 - 행,열 구\n",
    "df = pd.read_csv(\"../gps_logs/gps_straight01.csv\")  # 이미 경로가 맞는지 확인!\n",
    "\n",
    "# 1) 모든 노드를 딕셔너리로 정리\n",
    "nodes_raw = osm_data[\"osm\"][\"node\"]          # 노드가 하나면 dict, 여러 개면 list\n",
    "if isinstance(nodes_raw, dict):              # 노드가 1개뿐인 edge-case 대비 - 이경우 dict로 반환됨\n",
    "    nodes_raw = [nodes_raw]\n",
    "\n",
    "nodes = {}\n",
    "for n in nodes_raw:\n",
    "    nid = int(n[\"@id\"])\n",
    "    lat = float(n[\"@lat\"])\n",
    "    lon = float(n[\"@lon\"])\n",
    "    nodes[nid] = (lon, lat)                  # (경도, 위도) 순서로 저장\n",
    "\n",
    "print(\"총 노드 개수:\", len(nodes))\n",
    "print(\"예시 3개:\", list(nodes.items())[:3])"
   ]
  },
  {
   "cell_type": "code",
   "execution_count": null,
   "id": "03cef894-9e54-41f2-8f17-61f22e8726ba",
   "metadata": {},
   "outputs": [],
   "source": []
  }
 ],
 "metadata": {
  "kernelspec": {
   "display_name": "Python [conda env:mapmatching]",
   "language": "python",
   "name": "conda-env-mapmatching-py"
  },
  "language_info": {
   "codemirror_mode": {
    "name": "ipython",
    "version": 3
   },
   "file_extension": ".py",
   "mimetype": "text/x-python",
   "name": "python",
   "nbconvert_exporter": "python",
   "pygments_lexer": "ipython3",
   "version": "3.10.18"
  }
 },
 "nbformat": 4,
 "nbformat_minor": 5
}
