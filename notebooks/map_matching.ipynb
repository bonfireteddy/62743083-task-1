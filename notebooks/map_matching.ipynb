{
 "cells": [
  {
   "cell_type": "code",
   "execution_count": 83,
   "id": "b63b8dca-5c0f-4a89-aaf9-02daa1304cba",
   "metadata": {},
   "outputs": [
    {
     "name": "stdout",
     "output_type": "stream",
     "text": [
      "총 노드 개수: 113\n",
      "예시 3개: [(436854331, (127.02421, 37.4969787)), (1906756396, (127.0259134, 37.4975028)), (2280678660, (127.0294169, 37.4984367))]\n"
     ]
    }
   ],
   "source": [
    "import xmltodict\n",
    "import pandas as pd\n",
    "from shapely.geometry import LineString, Point\n",
    "from shapely.ops import nearest_points\n",
    "import glob\n",
    "from pathlib import Path\n",
    "\n",
    "with open(\"../data/roads.osm\", \"r\", encoding=\"utf-8\") as file:\n",
    "    osm_data = xmltodict.parse(file.read()) # XML 문서를 파이썬 딕셔너리로 변환\n",
    "\n",
    "# GPS 로그 Pandas DataFrame 객체 생성 - 행,열 구\n",
    "df = pd.read_csv(\"../gps_logs/gps_straight01.csv\")  # 경로가 맞는지 확인\n",
    "\n",
    "# 모든 노드를 딕셔너리로 정리\n",
    "nodes_raw = osm_data[\"osm\"][\"node\"]          # 노드가 하나면 dict, 여러 개면 list\n",
    "if isinstance(nodes_raw, dict):              # 노드가 1개뿐인 edge-case 대비 - 이경우 dict로 반환됨\n",
    "    nodes_raw = [nodes_raw]\n",
    "\n",
    "nodes = {}\n",
    "for n in nodes_raw:\n",
    "    nid = int(n[\"@id\"])\n",
    "    lat = float(n[\"@lat\"])\n",
    "    lon = float(n[\"@lon\"])\n",
    "    nodes[nid] = (lon, lat)                  # (경도, 위도) 순서로 저장\n",
    "\n",
    "print(\"총 노드 개수:\", len(nodes))\n",
    "print(\"예시 3개:\", list(nodes.items())[:3])"
   ]
  },
  {
   "cell_type": "code",
   "execution_count": 84,
   "id": "03cef894-9e54-41f2-8f17-61f22e8726ba",
   "metadata": {},
   "outputs": [
    {
     "name": "stdout",
     "output_type": "stream",
     "text": [
      "총 way 개수: 31\n"
     ]
    }
   ],
   "source": [
    "ways_raw = osm_data[\"osm\"][\"way\"]\n",
    "if isinstance(ways_raw, dict):                  # way가 1개일 가능성 대비\n",
    "    ways_raw = [ways_raw]\n",
    "\n",
    "print(\"총 way 개수:\", len(ways_raw))"
   ]
  },
  {
   "cell_type": "code",
   "execution_count": 85,
   "id": "c41704b3-4063-42c9-94bb-c22a19dc542d",
   "metadata": {},
   "outputs": [
    {
     "name": "stdout",
     "output_type": "stream",
     "text": [
      "선 생성 완료: 31개\n",
      "⚠️  누락 노드가 있는 way: 3개 (아래 일부 예시)\n",
      "  way 472042763 → missing 1 nodes (ex: [11034387027] …)\n",
      "  way 472042765 → missing 1 nodes (ex: [11034387028] …)\n",
      "  way 504231011 → missing 1 nodes (ex: [11245176923] …)\n",
      "way 472042763: XML 3개 → 실제 2개\n",
      "way 472042765: XML 3개 → 실제 2개\n",
      "way 504231011: XML 4개 → 실제 3개\n",
      "✅ 생성된 LineString 수: 31\n",
      "way 218864485: 4 pts, 첫점 (127.0276806, 37.4980478) → 끝점 (127.0274875, 37.4984961)\n",
      "way 218864491: 15 pts, 첫점 (127.0294169, 37.4984367) → 끝점 (127.0369935, 37.5007121)\n",
      "way 218873820: 5 pts, 첫점 (127.0280994, 37.4966908) → 끝점 (127.0289478, 37.4949431)\n",
      "way 218877837: 5 pts, 첫점 (127.0260403, 37.5009804) → 끝점 (127.0267729, 37.4994695)\n",
      "way 239954010: 10 pts, 첫점 (127.0284946, 37.4982952) → 끝점 (127.0274875, 37.4984961)\n",
      "way 304445274: 2 pts, 첫점 (127.0274725, 37.4979843) → 끝점 (127.0269036, 37.497806)\n",
      "way 305539406: 9 pts, 첫점 (127.0272447, 37.4984526) → 끝점 (127.0269036, 37.497806)\n",
      "way 375049565: 14 pts, 첫점 (127.0369107, 37.5009049) → 끝점 (127.0284946, 37.4982952)\n",
      "way 472042763: 2 pts, 첫점 (127.0277302, 37.4979234) → 끝점 (127.0276806, 37.4980478)\n",
      "way 472042764: 2 pts, 첫점 (127.0271262, 37.4977473) → 끝점 (127.0275307, 37.4978655)\n",
      "way 472042765: 2 pts, 첫점 (127.0274725, 37.4979843) → 끝점 (127.0275307, 37.4978655)\n",
      "way 472042766: 4 pts, 첫점 (127.0276806, 37.4980478) → 끝점 (127.0274725, 37.4979843)\n",
      "way 480850873: 2 pts, 첫점 (127.0269036, 37.497806) → 끝점 (127.0264051, 37.4976567)\n",
      "way 494824662: 6 pts, 첫점 (127.0296961, 37.4938103) → 끝점 (127.028743, 37.4958431)\n",
      "way 494952007: 4 pts, 첫점 (127.0275307, 37.4978655) → 끝점 (127.0277302, 37.4979234)\n",
      "way 504227065: 2 pts, 첫점 (127.0259134, 37.4975028) → 끝점 (127.0250866, 37.4972561)\n",
      "way 504231011: 3 pts, 첫점 (127.0250866, 37.4972561) → 끝점 (127.02421, 37.4969787)\n",
      "way 504512001: 2 pts, 첫점 (127.0264051, 37.4976567) → 끝점 (127.0259134, 37.4975028)\n",
      "way 520307303: 2 pts, 첫점 (127.0284946, 37.4982952) → 끝점 (127.0276806, 37.4980478)\n",
      "way 520307304: 6 pts, 첫점 (127.0274875, 37.4984961) → 끝점 (127.0268379, 37.4998762)\n",
      "way 521766174: 3 pts, 첫점 (127.0275307, 37.4978655) → 끝점 (127.0277227, 37.4974536)\n",
      "way 521766182: 4 pts, 첫점 (127.028743, 37.4958431) → 끝점 (127.0279245, 37.4974989)\n",
      "way 523141074: 7 pts, 첫점 (127.0267729, 37.4994695) → 끝점 (127.0274725, 37.4979843)\n",
      "way 628232693: 2 pts, 첫점 (127.0279938, 37.4973486) → 끝점 (127.0284387, 37.4981414)\n",
      "way 913949669: 7 pts, 첫점 (127.0271262, 37.4977473) → 끝점 (127.0277227, 37.4974536)\n",
      "way 914407834: 7 pts, 첫점 (127.0279245, 37.4974989) → 끝점 (127.0283071, 37.4981)\n",
      "way 975332778: 4 pts, 첫점 (127.0283071, 37.4981) → 끝점 (127.0294169, 37.4984367)\n",
      "way 990628459: 2 pts, 첫점 (127.0279245, 37.4974989) → 끝점 (127.0277302, 37.4979234)\n",
      "way 990628460: 2 pts, 첫점 (127.0277302, 37.4979234) → 끝점 (127.0283071, 37.4981)\n",
      "way 1117538957: 7 pts, 첫점 (127.024262, 37.4968665) → 끝점 (127.0271262, 37.4977473)\n",
      "way 1229817205: 3 pts, 첫점 (127.0277227, 37.4974536) → 끝점 (127.0280994, 37.4966908)\n"
     ]
    }
   ],
   "source": [
    "all_roads = {}\n",
    "missing_report = []          # (way_id, missing_nids) 목록 기록용\n",
    "\n",
    "for w in ways_raw:\n",
    "    wid = int(w[\"@id\"])\n",
    "    node_refs = [int(nd[\"@ref\"]) for nd in w[\"nd\"]]\n",
    "\n",
    "    # 존재하는 노드만 추출\n",
    "    coords = []\n",
    "    missing = []\n",
    "    for nid in node_refs:\n",
    "        if nid in nodes: # 정의되지 않은 노드 필터링.\n",
    "            coords.append(nodes[nid])\n",
    "        else:\n",
    "            missing.append(nid)\n",
    "\n",
    "    # 누락 노드 기록\n",
    "    if missing:\n",
    "        missing_report.append((wid, missing))\n",
    "\n",
    "    # 좌표가 2개 이상이면 LineString 생성\n",
    "    if len(coords) >= 2:\n",
    "        all_roads[wid] = LineString(coords)\n",
    "\n",
    "print(f\"선 생성 완료: {len(all_roads)}개\")\n",
    "if missing_report:\n",
    "    print(f\"⚠️  누락 노드가 있는 way: {len(missing_report)}개 (아래 일부 예시)\")\n",
    "    for wid, miss in missing_report[:5]:\n",
    "        print(f\"  way {wid} → missing {len(miss)} nodes (ex: {miss[:3]} …)\")\n",
    "# 누락노드 제외한 way의 노드 개수 확인\n",
    "for wid, line in all_roads.items():\n",
    "    way_tag = next(w for w in ways_raw if int(w[\"@id\"]) == wid)\n",
    "    original_n   = len(way_tag[\"nd\"])   # XML에 기록된 nd 개수\n",
    "    actual_n     = len(line.coords)     # 존재하는 노드만으로 만든 개수\n",
    "    if original_n != actual_n:\n",
    "        print(f\"way {wid}: XML {original_n}개 → 실제 {actual_n}개\")\n",
    "print(f\"✅ 생성된 LineString 수: {len(all_roads)}\")   \n",
    "\n",
    "# 전부 출력해보기\n",
    "for i, (wid, line) in enumerate(all_roads.items()):\n",
    "    \n",
    "    print(f\"way {wid}: {len(line.coords)} pts, \"\n",
    "          f\"첫점 {line.coords[0]} → 끝점 {line.coords[-1]}\")"
   ]
  },
  {
   "cell_type": "code",
   "execution_count": 86,
   "id": "acf58379-7267-465c-9fa8-b3545842308b",
   "metadata": {},
   "outputs": [
    {
     "name": "stdout",
     "output_type": "stream",
     "text": [
      "가장 가까운 way: 218873820\n",
      "거리: 2.3 m\n",
      "투영점: (127.02813114879656, 37.496624035596895)\n"
     ]
    }
   ],
   "source": [
    "\n",
    "DEG2M = 111_320    \n",
    "# 위도 1° ≈ 111.32 km (서울 근사) \n",
    "# Shapely가 계산한 거리는 ‘도(degree)’ 단위이므로, m 단위로 바꿀 때 곱해 주기 위함\n",
    "\n",
    "def find_closest_road(lon, lat, roads_dict):\n",
    "    \"\"\"하나의 GPS 점(lon, lat)을 roads_dict 중 가장 가까운 선으로 매칭.\"\"\"\n",
    "    p = Point(lon, lat)\n",
    "    best_way, best_dist, best_proj = None, float(\"inf\"), None\n",
    "\n",
    "    for wid, line in roads_dict.items():\n",
    "        d = p.distance(line)           # 단위: degree\n",
    "        if d < best_dist:\n",
    "            best_way, best_dist = wid, d\n",
    "            best_proj = nearest_points(p, line)[1]   # 수직으로 내려서 구한 도로 위 점(투영점)\n",
    "            # p와 line 사이에서 가장 가까운 두 점을 반환\n",
    "            \n",
    "    return best_way, best_dist * DEG2M, best_proj\n",
    "\n",
    "# GPS의 첫 행만 테스트\n",
    "test = df.iloc[0]\n",
    "wid, dist_m, proj = find_closest_road(test.Longitude, test.Latitude, all_roads)\n",
    "\n",
    "print(\"가장 가까운 way:\", wid)\n",
    "print(f\"거리: {dist_m:.1f} m\")\n",
    "print(\"투영점:\", (proj.x, proj.y))\n"
   ]
  },
  {
   "cell_type": "code",
   "execution_count": null,
   "id": "0b0db970-6429-48ba-a433-0157b66b5ad3",
   "metadata": {},
   "outputs": [],
   "source": []
  }
 ],
 "metadata": {
  "kernelspec": {
   "display_name": "Python [conda env:mapmatching]",
   "language": "python",
   "name": "conda-env-mapmatching-py"
  },
  "language_info": {
   "codemirror_mode": {
    "name": "ipython",
    "version": 3
   },
   "file_extension": ".py",
   "mimetype": "text/x-python",
   "name": "python",
   "nbconvert_exporter": "python",
   "pygments_lexer": "ipython3",
   "version": "3.10.18"
  }
 },
 "nbformat": 4,
 "nbformat_minor": 5
}
